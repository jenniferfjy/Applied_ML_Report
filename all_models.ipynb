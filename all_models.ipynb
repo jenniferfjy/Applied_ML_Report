{
  "nbformat": 4,
  "nbformat_minor": 0,
  "metadata": {
    "colab": {
      "provenance": []
    },
    "kernelspec": {
      "name": "python3",
      "display_name": "Python 3"
    },
    "language_info": {
      "name": "python"
    },
    "gpuClass": "standard"
  },
  "cells": [
    {
      "cell_type": "code",
      "execution_count": null,
      "metadata": {
        "id": "m-zylKtTjwzP",
        "colab": {
          "base_uri": "https://localhost:8080/"
        },
        "outputId": "ead830e0-c8be-40fd-b6e5-09ef4304e318"
      },
      "outputs": [
        {
          "output_type": "stream",
          "name": "stdout",
          "text": [
            "\u001b[?25l\r\u001b[K     |████▌                           | 10 kB 26.9 MB/s eta 0:00:01\r\u001b[K     |█████████                       | 20 kB 33.9 MB/s eta 0:00:01\r\u001b[K     |█████████████▋                  | 30 kB 43.3 MB/s eta 0:00:01\r\u001b[K     |██████████████████              | 40 kB 37.7 MB/s eta 0:00:01\r\u001b[K     |██████████████████████▋         | 51 kB 42.0 MB/s eta 0:00:01\r\u001b[K     |███████████████████████████▏    | 61 kB 47.4 MB/s eta 0:00:01\r\u001b[K     |███████████████████████████████▊| 71 kB 33.3 MB/s eta 0:00:01\r\u001b[K     |████████████████████████████████| 72 kB 778 kB/s \n",
            "\u001b[?25h"
          ]
        }
      ],
      "source": [
        "import numpy as np\n",
        "import pandas as pd\n",
        "import seaborn as sns\n",
        "import matplotlib.pyplot as plt\n",
        "from matplotlib.patches import Rectangle\n",
        "\n",
        "from sklearn.svm import SVR, LinearSVR\n",
        "from sklearn.linear_model import ElasticNet\n",
        "from sklearn.tree import DecisionTreeRegressor\n",
        "from sklearn.neighbors import KNeighborsRegressor\n",
        "from sklearn.ensemble import RandomForestRegressor, GradientBoostingRegressor, HistGradientBoostingRegressor\n",
        "\n",
        "from sklearn.pipeline import make_pipeline\n",
        "! pip install category_encoders -q\n",
        "from category_encoders import TargetEncoder\n",
        "from sklearn.model_selection import GridSearchCV\n",
        "from sklearn.compose import make_column_transformer\n",
        "from sklearn.preprocessing import StandardScaler, OrdinalEncoder, OneHotEncoder\n",
        "\n",
        "from warnings import filterwarnings\n",
        "filterwarnings('ignore', category=DeprecationWarning) \n",
        "filterwarnings('ignore', category=FutureWarning) "
      ]
    },
    {
      "cell_type": "code",
      "source": [
        "df_train = pd.read_csv('/content/drive/MyDrive/AML Project/Data/train.csv', dtype={'weather': 'category'})\n",
        "df_test = pd.read_csv('/content/drive/MyDrive/AML Project/Data/test.csv', dtype={'weather': 'category'})\n",
        "\n",
        "dev_X = df_train.drop(columns=['casual', 'registered', 'count'])\n",
        "dev_y = np.log(df_train['count'])\n",
        "dev_X.head()"
      ],
      "metadata": {
        "colab": {
          "base_uri": "https://localhost:8080/",
          "height": 206
        },
        "id": "OU50NnnZl8dS",
        "outputId": "6b3acf95-4b89-4ef6-9cd2-ccfc2f7ba088"
      },
      "execution_count": null,
      "outputs": [
        {
          "output_type": "execute_result",
          "data": {
            "text/plain": [
              "              datetime  season  holiday  workingday weather  temp   atemp  \\\n",
              "0  2011-01-01 00:00:00       1        0           0       1  9.84  14.395   \n",
              "1  2011-01-01 01:00:00       1        0           0       1  9.02  13.635   \n",
              "2  2011-01-01 02:00:00       1        0           0       1  9.02  13.635   \n",
              "3  2011-01-01 03:00:00       1        0           0       1  9.84  14.395   \n",
              "4  2011-01-01 04:00:00       1        0           0       1  9.84  14.395   \n",
              "\n",
              "   humidity  windspeed  \n",
              "0        81        0.0  \n",
              "1        80        0.0  \n",
              "2        80        0.0  \n",
              "3        75        0.0  \n",
              "4        75        0.0  "
            ],
            "text/html": [
              "\n",
              "  <div id=\"df-e52d150b-8049-4634-87e5-a6d25e848a2d\">\n",
              "    <div class=\"colab-df-container\">\n",
              "      <div>\n",
              "<style scoped>\n",
              "    .dataframe tbody tr th:only-of-type {\n",
              "        vertical-align: middle;\n",
              "    }\n",
              "\n",
              "    .dataframe tbody tr th {\n",
              "        vertical-align: top;\n",
              "    }\n",
              "\n",
              "    .dataframe thead th {\n",
              "        text-align: right;\n",
              "    }\n",
              "</style>\n",
              "<table border=\"1\" class=\"dataframe\">\n",
              "  <thead>\n",
              "    <tr style=\"text-align: right;\">\n",
              "      <th></th>\n",
              "      <th>datetime</th>\n",
              "      <th>season</th>\n",
              "      <th>holiday</th>\n",
              "      <th>workingday</th>\n",
              "      <th>weather</th>\n",
              "      <th>temp</th>\n",
              "      <th>atemp</th>\n",
              "      <th>humidity</th>\n",
              "      <th>windspeed</th>\n",
              "    </tr>\n",
              "  </thead>\n",
              "  <tbody>\n",
              "    <tr>\n",
              "      <th>0</th>\n",
              "      <td>2011-01-01 00:00:00</td>\n",
              "      <td>1</td>\n",
              "      <td>0</td>\n",
              "      <td>0</td>\n",
              "      <td>1</td>\n",
              "      <td>9.84</td>\n",
              "      <td>14.395</td>\n",
              "      <td>81</td>\n",
              "      <td>0.0</td>\n",
              "    </tr>\n",
              "    <tr>\n",
              "      <th>1</th>\n",
              "      <td>2011-01-01 01:00:00</td>\n",
              "      <td>1</td>\n",
              "      <td>0</td>\n",
              "      <td>0</td>\n",
              "      <td>1</td>\n",
              "      <td>9.02</td>\n",
              "      <td>13.635</td>\n",
              "      <td>80</td>\n",
              "      <td>0.0</td>\n",
              "    </tr>\n",
              "    <tr>\n",
              "      <th>2</th>\n",
              "      <td>2011-01-01 02:00:00</td>\n",
              "      <td>1</td>\n",
              "      <td>0</td>\n",
              "      <td>0</td>\n",
              "      <td>1</td>\n",
              "      <td>9.02</td>\n",
              "      <td>13.635</td>\n",
              "      <td>80</td>\n",
              "      <td>0.0</td>\n",
              "    </tr>\n",
              "    <tr>\n",
              "      <th>3</th>\n",
              "      <td>2011-01-01 03:00:00</td>\n",
              "      <td>1</td>\n",
              "      <td>0</td>\n",
              "      <td>0</td>\n",
              "      <td>1</td>\n",
              "      <td>9.84</td>\n",
              "      <td>14.395</td>\n",
              "      <td>75</td>\n",
              "      <td>0.0</td>\n",
              "    </tr>\n",
              "    <tr>\n",
              "      <th>4</th>\n",
              "      <td>2011-01-01 04:00:00</td>\n",
              "      <td>1</td>\n",
              "      <td>0</td>\n",
              "      <td>0</td>\n",
              "      <td>1</td>\n",
              "      <td>9.84</td>\n",
              "      <td>14.395</td>\n",
              "      <td>75</td>\n",
              "      <td>0.0</td>\n",
              "    </tr>\n",
              "  </tbody>\n",
              "</table>\n",
              "</div>\n",
              "      <button class=\"colab-df-convert\" onclick=\"convertToInteractive('df-e52d150b-8049-4634-87e5-a6d25e848a2d')\"\n",
              "              title=\"Convert this dataframe to an interactive table.\"\n",
              "              style=\"display:none;\">\n",
              "        \n",
              "  <svg xmlns=\"http://www.w3.org/2000/svg\" height=\"24px\"viewBox=\"0 0 24 24\"\n",
              "       width=\"24px\">\n",
              "    <path d=\"M0 0h24v24H0V0z\" fill=\"none\"/>\n",
              "    <path d=\"M18.56 5.44l.94 2.06.94-2.06 2.06-.94-2.06-.94-.94-2.06-.94 2.06-2.06.94zm-11 1L8.5 8.5l.94-2.06 2.06-.94-2.06-.94L8.5 2.5l-.94 2.06-2.06.94zm10 10l.94 2.06.94-2.06 2.06-.94-2.06-.94-.94-2.06-.94 2.06-2.06.94z\"/><path d=\"M17.41 7.96l-1.37-1.37c-.4-.4-.92-.59-1.43-.59-.52 0-1.04.2-1.43.59L10.3 9.45l-7.72 7.72c-.78.78-.78 2.05 0 2.83L4 21.41c.39.39.9.59 1.41.59.51 0 1.02-.2 1.41-.59l7.78-7.78 2.81-2.81c.8-.78.8-2.07 0-2.86zM5.41 20L4 18.59l7.72-7.72 1.47 1.35L5.41 20z\"/>\n",
              "  </svg>\n",
              "      </button>\n",
              "      \n",
              "  <style>\n",
              "    .colab-df-container {\n",
              "      display:flex;\n",
              "      flex-wrap:wrap;\n",
              "      gap: 12px;\n",
              "    }\n",
              "\n",
              "    .colab-df-convert {\n",
              "      background-color: #E8F0FE;\n",
              "      border: none;\n",
              "      border-radius: 50%;\n",
              "      cursor: pointer;\n",
              "      display: none;\n",
              "      fill: #1967D2;\n",
              "      height: 32px;\n",
              "      padding: 0 0 0 0;\n",
              "      width: 32px;\n",
              "    }\n",
              "\n",
              "    .colab-df-convert:hover {\n",
              "      background-color: #E2EBFA;\n",
              "      box-shadow: 0px 1px 2px rgba(60, 64, 67, 0.3), 0px 1px 3px 1px rgba(60, 64, 67, 0.15);\n",
              "      fill: #174EA6;\n",
              "    }\n",
              "\n",
              "    [theme=dark] .colab-df-convert {\n",
              "      background-color: #3B4455;\n",
              "      fill: #D2E3FC;\n",
              "    }\n",
              "\n",
              "    [theme=dark] .colab-df-convert:hover {\n",
              "      background-color: #434B5C;\n",
              "      box-shadow: 0px 1px 3px 1px rgba(0, 0, 0, 0.15);\n",
              "      filter: drop-shadow(0px 1px 2px rgba(0, 0, 0, 0.3));\n",
              "      fill: #FFFFFF;\n",
              "    }\n",
              "  </style>\n",
              "\n",
              "      <script>\n",
              "        const buttonEl =\n",
              "          document.querySelector('#df-e52d150b-8049-4634-87e5-a6d25e848a2d button.colab-df-convert');\n",
              "        buttonEl.style.display =\n",
              "          google.colab.kernel.accessAllowed ? 'block' : 'none';\n",
              "\n",
              "        async function convertToInteractive(key) {\n",
              "          const element = document.querySelector('#df-e52d150b-8049-4634-87e5-a6d25e848a2d');\n",
              "          const dataTable =\n",
              "            await google.colab.kernel.invokeFunction('convertToInteractive',\n",
              "                                                     [key], {});\n",
              "          if (!dataTable) return;\n",
              "\n",
              "          const docLinkHtml = 'Like what you see? Visit the ' +\n",
              "            '<a target=\"_blank\" href=https://colab.research.google.com/notebooks/data_table.ipynb>data table notebook</a>'\n",
              "            + ' to learn more about interactive tables.';\n",
              "          element.innerHTML = '';\n",
              "          dataTable['output_type'] = 'display_data';\n",
              "          await google.colab.output.renderOutput(dataTable, element);\n",
              "          const docLink = document.createElement('div');\n",
              "          docLink.innerHTML = docLinkHtml;\n",
              "          element.appendChild(docLink);\n",
              "        }\n",
              "      </script>\n",
              "    </div>\n",
              "  </div>\n",
              "  "
            ]
          },
          "metadata": {},
          "execution_count": 2
        }
      ]
    },
    {
      "cell_type": "markdown",
      "source": [
        "## Utils"
      ],
      "metadata": {
        "id": "pERnWLaXRNF1"
      }
    },
    {
      "cell_type": "code",
      "source": [
        "from numpy.lib.stride_tricks import sliding_window_view\n",
        "\n",
        "\n",
        "def df2samples(look_back, dev_X, dev_y, test_X):\n",
        "  df_dev, df_test = dev_X.copy(), test_X.copy()\n",
        "  df_dev['y'], df_test['y'] = dev_y, -1\n",
        "  df_all = pd.concat([df_dev, df_test]).sort_values(by=[dev_X.shape[1] - 1]).drop(columns=[dev_X.shape[1] - 1])\n",
        "  \n",
        "  samples = sliding_window_view(df_all.to_numpy(), (look_back, df_all.shape[1])).squeeze().astype(float)\n",
        "  dev_samples = samples[samples[:, -1, -1] != -1]\n",
        "  dev_y = dev_samples[:, -1, -1]\n",
        "  dev_X = dev_samples[:, :, :-1]\n",
        "  test_X = samples[samples[:, -1, -1] == -1][:, :, :-1]\n",
        "  return dev_X, dev_y[:, None], test_X\n",
        "\n",
        "def parse_dt(df, task='regression'):\n",
        "\n",
        "  df_trans = df.copy()\n",
        "  dt_col = pd.to_datetime(df['datetime'], infer_datetime_format=True).dt\n",
        "  df_trans['year'] = pd.Categorical(dt_col.year)\n",
        "  df_trans['month'] = pd.Categorical(dt_col.month)\n",
        "  df_trans['dayofweek'] = pd.Categorical(dt_col.weekday)\n",
        "  df_trans['hour'] = pd.Categorical(dt_col.hour)\n",
        "  \n",
        "  f_to_drop = ['datetime', 'temp', 'season', 'workingday']\n",
        "  df_trans = df_trans.drop(columns=f_to_drop)\n",
        "  if task == 'timeseries': df_trans['datetime'] = pd.to_datetime(df['datetime'], infer_datetime_format=True)\n",
        "  \n",
        "  return df_trans"
      ],
      "metadata": {
        "id": "_EBCkbxDRL7Y"
      },
      "execution_count": null,
      "outputs": []
    },
    {
      "cell_type": "markdown",
      "source": [
        "## Regression"
      ],
      "metadata": {
        "id": "WpkZhZ4-AjSy"
      }
    },
    {
      "cell_type": "code",
      "source": [
        "dev_X_reg = dev_X.drop(columns=['datetime'])"
      ],
      "metadata": {
        "id": "m4HT9J0Lcudo"
      },
      "execution_count": null,
      "outputs": []
    },
    {
      "cell_type": "code",
      "source": [
        "dev_X_reg_trans = parse_dt(dev_X)\n",
        "dev_X_reg_trans.head()"
      ],
      "metadata": {
        "colab": {
          "base_uri": "https://localhost:8080/",
          "height": 206
        },
        "id": "HdaLxBgJzJCK",
        "outputId": "697b0b61-9cc5-4ce5-b420-5d50fd14541a"
      },
      "execution_count": null,
      "outputs": [
        {
          "output_type": "execute_result",
          "data": {
            "text/plain": [
              "   holiday weather   atemp  humidity  windspeed  year month dayofweek hour\n",
              "0        0       1  14.395        81        0.0  2011     1         5    0\n",
              "1        0       1  13.635        80        0.0  2011     1         5    1\n",
              "2        0       1  13.635        80        0.0  2011     1         5    2\n",
              "3        0       1  14.395        75        0.0  2011     1         5    3\n",
              "4        0       1  14.395        75        0.0  2011     1         5    4"
            ],
            "text/html": [
              "\n",
              "  <div id=\"df-6a9d90a1-bf4e-4e7e-a35e-0da685eb9ad6\">\n",
              "    <div class=\"colab-df-container\">\n",
              "      <div>\n",
              "<style scoped>\n",
              "    .dataframe tbody tr th:only-of-type {\n",
              "        vertical-align: middle;\n",
              "    }\n",
              "\n",
              "    .dataframe tbody tr th {\n",
              "        vertical-align: top;\n",
              "    }\n",
              "\n",
              "    .dataframe thead th {\n",
              "        text-align: right;\n",
              "    }\n",
              "</style>\n",
              "<table border=\"1\" class=\"dataframe\">\n",
              "  <thead>\n",
              "    <tr style=\"text-align: right;\">\n",
              "      <th></th>\n",
              "      <th>holiday</th>\n",
              "      <th>weather</th>\n",
              "      <th>atemp</th>\n",
              "      <th>humidity</th>\n",
              "      <th>windspeed</th>\n",
              "      <th>year</th>\n",
              "      <th>month</th>\n",
              "      <th>dayofweek</th>\n",
              "      <th>hour</th>\n",
              "    </tr>\n",
              "  </thead>\n",
              "  <tbody>\n",
              "    <tr>\n",
              "      <th>0</th>\n",
              "      <td>0</td>\n",
              "      <td>1</td>\n",
              "      <td>14.395</td>\n",
              "      <td>81</td>\n",
              "      <td>0.0</td>\n",
              "      <td>2011</td>\n",
              "      <td>1</td>\n",
              "      <td>5</td>\n",
              "      <td>0</td>\n",
              "    </tr>\n",
              "    <tr>\n",
              "      <th>1</th>\n",
              "      <td>0</td>\n",
              "      <td>1</td>\n",
              "      <td>13.635</td>\n",
              "      <td>80</td>\n",
              "      <td>0.0</td>\n",
              "      <td>2011</td>\n",
              "      <td>1</td>\n",
              "      <td>5</td>\n",
              "      <td>1</td>\n",
              "    </tr>\n",
              "    <tr>\n",
              "      <th>2</th>\n",
              "      <td>0</td>\n",
              "      <td>1</td>\n",
              "      <td>13.635</td>\n",
              "      <td>80</td>\n",
              "      <td>0.0</td>\n",
              "      <td>2011</td>\n",
              "      <td>1</td>\n",
              "      <td>5</td>\n",
              "      <td>2</td>\n",
              "    </tr>\n",
              "    <tr>\n",
              "      <th>3</th>\n",
              "      <td>0</td>\n",
              "      <td>1</td>\n",
              "      <td>14.395</td>\n",
              "      <td>75</td>\n",
              "      <td>0.0</td>\n",
              "      <td>2011</td>\n",
              "      <td>1</td>\n",
              "      <td>5</td>\n",
              "      <td>3</td>\n",
              "    </tr>\n",
              "    <tr>\n",
              "      <th>4</th>\n",
              "      <td>0</td>\n",
              "      <td>1</td>\n",
              "      <td>14.395</td>\n",
              "      <td>75</td>\n",
              "      <td>0.0</td>\n",
              "      <td>2011</td>\n",
              "      <td>1</td>\n",
              "      <td>5</td>\n",
              "      <td>4</td>\n",
              "    </tr>\n",
              "  </tbody>\n",
              "</table>\n",
              "</div>\n",
              "      <button class=\"colab-df-convert\" onclick=\"convertToInteractive('df-6a9d90a1-bf4e-4e7e-a35e-0da685eb9ad6')\"\n",
              "              title=\"Convert this dataframe to an interactive table.\"\n",
              "              style=\"display:none;\">\n",
              "        \n",
              "  <svg xmlns=\"http://www.w3.org/2000/svg\" height=\"24px\"viewBox=\"0 0 24 24\"\n",
              "       width=\"24px\">\n",
              "    <path d=\"M0 0h24v24H0V0z\" fill=\"none\"/>\n",
              "    <path d=\"M18.56 5.44l.94 2.06.94-2.06 2.06-.94-2.06-.94-.94-2.06-.94 2.06-2.06.94zm-11 1L8.5 8.5l.94-2.06 2.06-.94-2.06-.94L8.5 2.5l-.94 2.06-2.06.94zm10 10l.94 2.06.94-2.06 2.06-.94-2.06-.94-.94-2.06-.94 2.06-2.06.94z\"/><path d=\"M17.41 7.96l-1.37-1.37c-.4-.4-.92-.59-1.43-.59-.52 0-1.04.2-1.43.59L10.3 9.45l-7.72 7.72c-.78.78-.78 2.05 0 2.83L4 21.41c.39.39.9.59 1.41.59.51 0 1.02-.2 1.41-.59l7.78-7.78 2.81-2.81c.8-.78.8-2.07 0-2.86zM5.41 20L4 18.59l7.72-7.72 1.47 1.35L5.41 20z\"/>\n",
              "  </svg>\n",
              "      </button>\n",
              "      \n",
              "  <style>\n",
              "    .colab-df-container {\n",
              "      display:flex;\n",
              "      flex-wrap:wrap;\n",
              "      gap: 12px;\n",
              "    }\n",
              "\n",
              "    .colab-df-convert {\n",
              "      background-color: #E8F0FE;\n",
              "      border: none;\n",
              "      border-radius: 50%;\n",
              "      cursor: pointer;\n",
              "      display: none;\n",
              "      fill: #1967D2;\n",
              "      height: 32px;\n",
              "      padding: 0 0 0 0;\n",
              "      width: 32px;\n",
              "    }\n",
              "\n",
              "    .colab-df-convert:hover {\n",
              "      background-color: #E2EBFA;\n",
              "      box-shadow: 0px 1px 2px rgba(60, 64, 67, 0.3), 0px 1px 3px 1px rgba(60, 64, 67, 0.15);\n",
              "      fill: #174EA6;\n",
              "    }\n",
              "\n",
              "    [theme=dark] .colab-df-convert {\n",
              "      background-color: #3B4455;\n",
              "      fill: #D2E3FC;\n",
              "    }\n",
              "\n",
              "    [theme=dark] .colab-df-convert:hover {\n",
              "      background-color: #434B5C;\n",
              "      box-shadow: 0px 1px 3px 1px rgba(0, 0, 0, 0.15);\n",
              "      filter: drop-shadow(0px 1px 2px rgba(0, 0, 0, 0.3));\n",
              "      fill: #FFFFFF;\n",
              "    }\n",
              "  </style>\n",
              "\n",
              "      <script>\n",
              "        const buttonEl =\n",
              "          document.querySelector('#df-6a9d90a1-bf4e-4e7e-a35e-0da685eb9ad6 button.colab-df-convert');\n",
              "        buttonEl.style.display =\n",
              "          google.colab.kernel.accessAllowed ? 'block' : 'none';\n",
              "\n",
              "        async function convertToInteractive(key) {\n",
              "          const element = document.querySelector('#df-6a9d90a1-bf4e-4e7e-a35e-0da685eb9ad6');\n",
              "          const dataTable =\n",
              "            await google.colab.kernel.invokeFunction('convertToInteractive',\n",
              "                                                     [key], {});\n",
              "          if (!dataTable) return;\n",
              "\n",
              "          const docLinkHtml = 'Like what you see? Visit the ' +\n",
              "            '<a target=\"_blank\" href=https://colab.research.google.com/notebooks/data_table.ipynb>data table notebook</a>'\n",
              "            + ' to learn more about interactive tables.';\n",
              "          element.innerHTML = '';\n",
              "          dataTable['output_type'] = 'display_data';\n",
              "          await google.colab.output.renderOutput(dataTable, element);\n",
              "          const docLink = document.createElement('div');\n",
              "          docLink.innerHTML = docLinkHtml;\n",
              "          element.appendChild(docLink);\n",
              "        }\n",
              "      </script>\n",
              "    </div>\n",
              "  </div>\n",
              "  "
            ]
          },
          "metadata": {},
          "execution_count": 5
        }
      ]
    },
    {
      "cell_type": "code",
      "source": [
        "# preprocess\n",
        "\n",
        "num_features = ['atemp', 'humidity', 'windspeed']\n",
        "ord_features = ['year']\n",
        "ohe_features = ['weather']\n",
        "te_features = ['month', 'dayofweek', 'hour']\n",
        "preprocess = make_column_transformer((OrdinalEncoder(), ord_features), \n",
        "                    (OneHotEncoder(), ohe_features), \n",
        "                    (TargetEncoder(), te_features), remainder='passthrough')"
      ],
      "metadata": {
        "id": "4DAtpuKFygIE"
      },
      "execution_count": null,
      "outputs": []
    },
    {
      "cell_type": "markdown",
      "source": [
        "### ElasticNet"
      ],
      "metadata": {
        "id": "lsA_9eymHYa5"
      }
    },
    {
      "cell_type": "code",
      "source": [
        "# ElasticNet\n",
        "en_par = {\n",
        "    'alpha': np.logspace(-5, 0, 10), \n",
        "    'l1_ratio': np.logspace(-5, 0, 10)\n",
        "    }\n",
        "\n",
        "en_pipe = make_pipeline(StandardScaler(), GridSearchCV(ElasticNet(random_state=42), param_grid=en_par, n_jobs=-1)).fit(dev_X_reg, dev_y)\n",
        "en_fe_pipe = make_pipeline(preprocess, StandardScaler(), GridSearchCV(ElasticNet(random_state=42), param_grid=en_par, n_jobs=-1)).fit(dev_X_reg_trans, dev_y)\n",
        "\n",
        "print('Without features engineering, ElasticNet gets {} with {}'.format(en_pipe.named_steps['gridsearchcv'].best_score_ , en_pipe.named_steps['gridsearchcv'].best_params_))\n",
        "print('After features engineering, ElasticNet gets {} with {}'.format(en_fe_pipe.named_steps['gridsearchcv'].best_score_ , en_fe_pipe.named_steps['gridsearchcv'].best_params_))"
      ],
      "metadata": {
        "colab": {
          "base_uri": "https://localhost:8080/"
        },
        "id": "vG-dhHcjBJ5-",
        "outputId": "c2a3167c-f905-43f7-d02e-da77c6b0c3bc"
      },
      "execution_count": null,
      "outputs": [
        {
          "output_type": "stream",
          "name": "stdout",
          "text": [
            "Without features engineering, ElasticNet gets 0.13782819346688274 with {'alpha': 0.07742636826811278, 'l1_ratio': 1e-05}\n",
            "After features engineering, ElasticNet gets 0.8003025172453061 with {'alpha': 1e-05, 'l1_ratio': 1e-05}\n"
          ]
        },
        {
          "output_type": "stream",
          "name": "stderr",
          "text": [
            "/usr/local/lib/python3.7/dist-packages/sklearn/linear_model/_coordinate_descent.py:648: ConvergenceWarning: Objective did not converge. You might want to increase the number of iterations, check the scale of the features or consider increasing regularisation. Duality gap: 2.096e+03, tolerance: 2.413e+00\n",
            "  coef_, l1_reg, l2_reg, X, y, max_iter, tol, rng, random, positive\n"
          ]
        }
      ]
    },
    {
      "cell_type": "code",
      "source": [
        "en_scores = en_pipe.named_steps['gridsearchcv'].cv_results_['mean_test_score'].reshape((10, 10))\n",
        "en_fe_scores = en_fe_pipe.named_steps['gridsearchcv'].cv_results_['mean_test_score'].reshape((10, 10))"
      ],
      "metadata": {
        "id": "CnIE9r6VFwXb"
      },
      "execution_count": null,
      "outputs": []
    },
    {
      "cell_type": "markdown",
      "source": [
        "### KNN"
      ],
      "metadata": {
        "id": "hAmfCiYuHfBi"
      }
    },
    {
      "cell_type": "code",
      "source": [
        "# KNN\n",
        "\n",
        "knn_par = {\n",
        "    'n_neighbors': np.arange(2, 100, 10),\n",
        "    'p': np.arange(1, 4)\n",
        "    }\n",
        "\n",
        "knn_pipe = make_pipeline(StandardScaler(), GridSearchCV(KNeighborsRegressor(), param_grid=knn_par, n_jobs=-1)).fit(dev_X_reg, dev_y)\n",
        "knn_fe_pipe = make_pipeline(preprocess, StandardScaler(), GridSearchCV(KNeighborsRegressor(), param_grid=knn_par, n_jobs=-1)).fit(dev_X_reg_trans, dev_y)\n",
        "\n",
        "print('Without features engineering, KNN gets {} with {}'.format(knn_pipe.named_steps['gridsearchcv'].best_score_, knn_pipe.named_steps['gridsearchcv'].best_params_))\n",
        "print('After features engineering, KNN gets {} with {}'.format(knn_fe_pipe.named_steps['gridsearchcv'].best_score_, knn_fe_pipe.named_steps['gridsearchcv'].best_params_))"
      ],
      "metadata": {
        "colab": {
          "base_uri": "https://localhost:8080/"
        },
        "id": "-XTXFXDpRXon",
        "outputId": "088c899b-59b4-4895-822a-c6cc871d1798"
      },
      "execution_count": null,
      "outputs": [
        {
          "output_type": "stream",
          "name": "stdout",
          "text": [
            "Without features engineering, KNN gets 0.15626861201766415 with {'n_neighbors': 72, 'p': 1}\n",
            "After features engineering, KNN gets 0.7258016634690703 with {'n_neighbors': 12, 'p': 1}\n"
          ]
        }
      ]
    },
    {
      "cell_type": "code",
      "source": [
        "knn_scores = knn_pipe.named_steps['gridsearchcv'].cv_results_['mean_test_score'].reshape((10, 3)).T\n",
        "knn_fe_scores = knn_fe_pipe.named_steps['gridsearchcv'].cv_results_['mean_test_score'].reshape((10, 3)).T\n"
      ],
      "metadata": {
        "id": "YSBBHrs4P80E"
      },
      "execution_count": null,
      "outputs": []
    },
    {
      "cell_type": "markdown",
      "source": [
        "### SVM"
      ],
      "metadata": {
        "id": "HAkHrHwWHhWi"
      }
    },
    {
      "cell_type": "code",
      "source": [
        "# Linear SVM\n",
        "svm_par = {\n",
        "    'epsilon': np.logspace(-3, 0, 10),\n",
        "    # 'kernel': ['linear', 'poly'],\n",
        "    # 'gamma': np.logspace(-3, 1, 20), \n",
        "    'C': np.logspace(-3, 0, 10)\n",
        "    }\n",
        "\n",
        "svm_pipe = make_pipeline(StandardScaler(), GridSearchCV(LinearSVR(random_state=42), param_grid=svm_par, n_jobs=-1)).fit(dev_X_reg, dev_y)\n",
        "svm_fe_pipe = make_pipeline(preprocess, StandardScaler(), GridSearchCV(LinearSVR(random_state=42), param_grid=svm_par, n_jobs=-1)).fit(dev_X_reg_trans, dev_y)\n",
        "\n",
        "# svm_pipe = make_pipeline(StandardScaler(), GridSearchCV(SVR(), param_grid=svm_par, n_jobs=-1)).fit(dev_X_reg, dev_y)\n",
        "# svm_fe_pipe = make_pipeline(preprocess, StandardScaler(), GridSearchCV(SVR(), param_grid=svm_par, n_jobs=-1)).fit(dev_X_reg_trans, dev_y)\n",
        "\n",
        "print('Without features engineering, SVM gets {} with {}'.format(svm_pipe.named_steps['gridsearchcv'].best_score_ , svm_pipe.named_steps['gridsearchcv'].best_params_))\n",
        "print('After features engineering, SVM gets {} with {}'.format(svm_fe_pipe.named_steps['gridsearchcv'].best_score_ , svm_fe_pipe.named_steps['gridsearchcv'].best_params_))"
      ],
      "metadata": {
        "colab": {
          "base_uri": "https://localhost:8080/"
        },
        "id": "cxzaIGtbbzKO",
        "outputId": "cc4da946-9bc3-4b2f-e6b2-7ecc3f789efd"
      },
      "execution_count": null,
      "outputs": [
        {
          "output_type": "stream",
          "name": "stdout",
          "text": [
            "Without features engineering, SVM gets 0.1421418971954293 with {'C': 0.004641588833612777, 'epsilon': 0.46415888336127775}\n",
            "After features engineering, SVM gets 0.8015769045042177 with {'C': 0.01, 'epsilon': 0.46415888336127775}\n"
          ]
        }
      ]
    },
    {
      "cell_type": "code",
      "source": [
        "svm_scores = svm_pipe.named_steps['gridsearchcv'].cv_results_['mean_test_score'].reshape((10, 10))\n",
        "svm_fe_scores = svm_fe_pipe.named_steps['gridsearchcv'].cv_results_['mean_test_score'].reshape((10, 10))"
      ],
      "metadata": {
        "id": "nV1gmb522EDC"
      },
      "execution_count": null,
      "outputs": []
    },
    {
      "cell_type": "markdown",
      "source": [
        "### Decision Tree"
      ],
      "metadata": {
        "id": "rh5FLdVhHuUB"
      }
    },
    {
      "cell_type": "code",
      "source": [
        "# DT\n",
        "\n",
        "dt_par = {\n",
        "    'max_depth': np.arange(5, 13),\n",
        "    'ccp_alpha': np.logspace(-5, -2, 8)\n",
        "    }\n",
        "\n",
        "dt_pipe = make_pipeline(StandardScaler(), GridSearchCV(DecisionTreeRegressor(random_state=42), param_grid=dt_par, n_jobs=-1)).fit(dev_X_reg, dev_y)\n",
        "dt_fe_pipe = make_pipeline(preprocess, StandardScaler(), GridSearchCV(DecisionTreeRegressor(random_state=42), param_grid=dt_par, n_jobs=-1)).fit(dev_X_reg_trans, dev_y)\n",
        "\n",
        "print('Without features engineering, Decision Tree gets {} with {}'.format(dt_pipe.named_steps['gridsearchcv'].best_score_, dt_pipe.named_steps['gridsearchcv'].best_params_))\n",
        "print('After features engineering, Decision Tree gets {} with {}'.format(dt_fe_pipe.named_steps['gridsearchcv'].best_score_, dt_fe_pipe.named_steps['gridsearchcv'].best_params_))"
      ],
      "metadata": {
        "colab": {
          "base_uri": "https://localhost:8080/"
        },
        "id": "lQj6ZHSqOm2A",
        "outputId": "684017a0-f1ab-4562-8197-243ddf316da2"
      },
      "execution_count": null,
      "outputs": [
        {
          "output_type": "stream",
          "name": "stdout",
          "text": [
            "Without features engineering, Decision Tree gets 0.1283485653623996 with {'ccp_alpha': 0.003727593720314938, 'max_depth': 10}\n",
            "After features engineering, Decision Tree gets 0.760438551369919 with {'ccp_alpha': 0.0005179474679231213, 'max_depth': 12}\n"
          ]
        }
      ]
    },
    {
      "cell_type": "code",
      "source": [
        "dt_scores = dt_pipe.named_steps['gridsearchcv'].cv_results_['mean_test_score'].reshape((8, 8))\n",
        "dt_fe_scores = dt_fe_pipe.named_steps['gridsearchcv'].cv_results_['mean_test_score'].reshape((8, 8))"
      ],
      "metadata": {
        "id": "m3NelwZmxoW6"
      },
      "execution_count": null,
      "outputs": []
    },
    {
      "cell_type": "markdown",
      "source": [
        "### Random Forest"
      ],
      "metadata": {
        "id": "2l3SaBvOHxgQ"
      }
    },
    {
      "cell_type": "code",
      "source": [
        "# RF\n",
        "rf_par = {\n",
        "    'n_estimators': np.arange(100, 300, 25), \n",
        "    'max_features': np.linspace(0.2, 1, 8)\n",
        "    }\n",
        "\n",
        "rf_pipe = make_pipeline(StandardScaler(), GridSearchCV(RandomForestRegressor(random_state=42), param_grid=rf_par, n_jobs=-1)).fit(dev_X_reg, dev_y)\n",
        "rf_fe_pipe = make_pipeline(preprocess, StandardScaler(), GridSearchCV(RandomForestRegressor(random_state=42), param_grid=rf_par, n_jobs=-1)).fit(dev_X_reg_trans, dev_y)\n",
        "\n",
        "print('Without features engineering, Random Forest gets {} with {}'.format(rf_pipe.named_steps['gridsearchcv'].best_score_, rf_pipe.named_steps['gridsearchcv'].best_params_))\n",
        "print('After features engineering, Random Forest gets {} with {}'.format(rf_fe_pipe.named_steps['gridsearchcv'].best_score_, rf_fe_pipe.named_steps['gridsearchcv'].best_params_))"
      ],
      "metadata": {
        "colab": {
          "base_uri": "https://localhost:8080/"
        },
        "id": "LhRE9ZbWXyqJ",
        "outputId": "f492c711-4023-4975-acd9-54e34a39bbc4"
      },
      "execution_count": null,
      "outputs": [
        {
          "output_type": "stream",
          "name": "stdout",
          "text": [
            "Without features engineering, Random Forest gets 0.0800576847141468 with {'max_features': 0.3142857142857143, 'n_estimators': 175}\n",
            "After features engineering, Random Forest gets 0.8468108694288523 with {'max_features': 0.8857142857142857, 'n_estimators': 175}\n"
          ]
        }
      ]
    },
    {
      "cell_type": "code",
      "source": [
        "rf_scores = rf_pipe.named_steps['gridsearchcv'].cv_results_['mean_test_score'].reshape((8, 8))\n",
        "rf_fe_scores = rf_fe_pipe.named_steps['gridsearchcv'].cv_results_['mean_test_score'].reshape((8, 8))"
      ],
      "metadata": {
        "id": "PqBnfMAHEqJ7"
      },
      "execution_count": null,
      "outputs": []
    },
    {
      "cell_type": "markdown",
      "source": [
        "### Gradient Boosting Tree"
      ],
      "metadata": {
        "id": "xWcIqT6wH0Mg"
      }
    },
    {
      "cell_type": "code",
      "source": [
        "# GBT\n",
        "gb_par = {\n",
        "    'n_estimators': np.arange(100, 500, 50), \n",
        "    'learning_rate': np.logspace(-3, 0, 8)\n",
        "    }\n",
        "\n",
        "gb_pipe = make_pipeline(StandardScaler(), GridSearchCV(GradientBoostingRegressor(random_state=42), param_grid=gb_par, return_train_score=True, n_jobs=-1)).fit(dev_X_reg, dev_y)\n",
        "gb_fe_pipe = make_pipeline(preprocess, StandardScaler(), GridSearchCV(GradientBoostingRegressor(random_state=42), param_grid=gb_par, return_train_score=True, n_jobs=-1)).fit(dev_X_reg_trans, dev_y)\n",
        "\n",
        "print('Without features engineering, Random Forest gets {} with {}'.format(gb_pipe.named_steps['gridsearchcv'].best_score_, gb_pipe.named_steps['gridsearchcv'].best_params_))\n",
        "print('After features engineering, Random Forest gets {} with {}'.format(gb_fe_pipe.named_steps['gridsearchcv'].best_score_, gb_fe_pipe.named_steps['gridsearchcv'].best_params_))"
      ],
      "metadata": {
        "id": "35i95BuJQ7MA"
      },
      "execution_count": null,
      "outputs": []
    },
    {
      "cell_type": "code",
      "source": [
        "gb_scores = gb_pipe.named_steps['gridsearchcv'].cv_results_['mean_test_score'].reshape((8, 8))\n",
        "gb_fe_scores = gb_fe_pipe.named_steps['gridsearchcv'].cv_results_['mean_test_score'].reshape((8, 8))"
      ],
      "metadata": {
        "id": "8di6RphPD9bc"
      },
      "execution_count": null,
      "outputs": []
    },
    {
      "cell_type": "markdown",
      "source": [
        "### Histogram Gradient Boosting Tree"
      ],
      "metadata": {
        "id": "YAsRh-6EH4k0"
      }
    },
    {
      "cell_type": "code",
      "source": [
        "# HGBT\n",
        "hgb_par = {\n",
        "    'max_bins': np.linspace(15, 255, 8, dtype=int),\n",
        "    'learning_rate': np.logspace(-3, 0, 8)\n",
        "    }\n",
        "\n",
        "hgb_pipe = make_pipeline(StandardScaler(), GridSearchCV(HistGradientBoostingRegressor(random_state=42), param_grid=hgb_par, return_train_score=True, n_jobs=-1)).fit(dev_X_reg, dev_y)\n",
        "hgb_fe_pipe = make_pipeline(preprocess, StandardScaler(), GridSearchCV(HistGradientBoostingRegressor(random_state=42), param_grid=hgb_par, return_train_score=True, n_jobs=-1)).fit(dev_X_reg_trans, dev_y)\n",
        "\n",
        "print('Without features engineering, hgb gets {} with {}'.format(hgb_pipe.named_steps['gridsearchcv'].best_score_, hgb_pipe.named_steps['gridsearchcv'].best_params_))\n",
        "print('After features engineering, hgb gets {} with {}'.format(hgb_fe_pipe.named_steps['gridsearchcv'].best_score_, hgb_fe_pipe.named_steps['gridsearchcv'].best_params_))"
      ],
      "metadata": {
        "colab": {
          "base_uri": "https://localhost:8080/"
        },
        "id": "KzhIMt4alPoi",
        "outputId": "3273fc32-eda5-4070-993d-913745bba75a"
      },
      "execution_count": null,
      "outputs": [
        {
          "output_type": "stream",
          "name": "stdout",
          "text": [
            "Without features engineering, Random Forest gets 0.17110555465418967 with {'learning_rate': 0.0517947467923121, 'max_bins': 15}\n",
            "After features engineering, Random Forest gets 0.88679158781143 with {'learning_rate': 0.13894954943731375, 'max_bins': 117}\n"
          ]
        }
      ]
    },
    {
      "cell_type": "code",
      "source": [
        "hgb_scores = hgb_pipe.named_steps['gridsearchcv'].cv_results_['mean_test_score'].reshape((8, 8))\n",
        "hgb_fe_scores = hgb_fe_pipe.named_steps['gridsearchcv'].cv_results_['mean_test_score'].reshape((8, 8))"
      ],
      "metadata": {
        "id": "8uo0GS_LI2QZ"
      },
      "execution_count": null,
      "outputs": []
    },
    {
      "cell_type": "markdown",
      "source": [
        "### Visualization"
      ],
      "metadata": {
        "id": "x32gBCQOIUBa"
      }
    },
    {
      "cell_type": "code",
      "source": [
        "# Non-tree-based Models\n",
        "\n",
        "vmin = min(np.min([en_scores, svm_scores]), np.min(knn_scores), np.min([dt_scores, rf_scores, hgb_scores]))\n",
        "vmax = max(np.max([en_fe_scores, svm_fe_scores]), np.max(knn_fe_scores), np.max([dt_fe_scores, rf_fe_scores, hgb_fe_scores]))\n",
        "fig, axes = plt.subplots(2, 6, figsize=(16, 6), sharex='col', gridspec_kw=dict(width_ratios=[1, .3, 1, 1, 1, 1]))\n",
        "\n",
        "\n",
        "# EN\n",
        "sns.heatmap(en_scores, cmap='GnBu', vmin=vmin, vmax=vmax, cbar=False, square=True, linewidth=.2, \n",
        "            xticklabels=np.round(np.log10(en_par['l1_ratio']), 1), yticklabels=np.round(np.log10(en_par['alpha']), 2), ax=axes[0, 0])\n",
        "axes[0, 0].set(ylabel='Original Features\\n$\\lg$(alpha)', title='Elastic Net')\n",
        "axes[0, 0].xaxis.set_ticks_position('none') \n",
        "axes[0, 0].add_patch(Rectangle(np.unravel_index(en_scores.T.argmax(), en_scores.T.shape), 1, 1, edgecolor='red', fill=False, lw=1.5))\n",
        "\n",
        "sns.heatmap(en_fe_scores, cmap='GnBu', vmin=vmin, vmax=vmax, cbar=False, square=True, linewidth=.2,\n",
        "            xticklabels=np.round(np.log10(en_par['l1_ratio']), 1), yticklabels=np.round(np.log10(en_par['alpha']), 2), ax=axes[1, 0])\n",
        "axes[1, 0].set(xlabel=r'$\\lg$(l1_ratio)', ylabel='Transformed Features\\n$\\lg$(alpha)')\n",
        "axes[1, 0].add_patch(Rectangle(np.unravel_index(en_fe_scores.T.argmax(), en_fe_scores.T.shape), 1, 1, edgecolor='red', fill=False, lw=1.5))\n",
        "\n",
        "\n",
        "# KNN\n",
        "sns.heatmap(knn_scores.T, cmap='GnBu', vmin=vmin, vmax=vmax, cbar=False, square=True, linewidth=.2, yticklabels=knn_par['n_neighbors'], ax=axes[0, 1])\n",
        "axes[0, 1].set(ylabel='n_neighbors', title='KNN')\n",
        "axes[0, 1].xaxis.set_ticks_position('none')\n",
        "axes[0, 1].add_patch(Rectangle(np.unravel_index(knn_scores.argmax(), knn_scores.shape), 1, 1, edgecolor='red', fill=False, lw=1.5))\n",
        "\n",
        "sns.heatmap(knn_fe_scores.T, cmap='GnBu', vmin=vmin, vmax=vmax, cbar=False, square=True, linewidth=.2,\n",
        "            xticklabels=knn_par['p'], yticklabels=knn_par['n_neighbors'], ax=axes[1, 1])\n",
        "axes[1, 1].set(xlabel='p', ylabel='n_neighbors')\n",
        "axes[1, 1].add_patch(Rectangle(np.unravel_index(knn_fe_scores.argmax(), knn_fe_scores.shape), 1, 1, edgecolor='red', fill=False, lw=1.5))\n",
        "\n",
        "\n",
        "# SVM\n",
        "sns.heatmap(svm_scores, cmap='GnBu', vmin=vmin, vmax=vmax, cbar=False, square=True, linewidth=.2, \n",
        "            xticklabels=np.round(np.log10(svm_par['epsilon']), 1), yticklabels=np.round(np.log10(svm_par['C']), 2), ax=axes[0, 2])\n",
        "axes[0, 2].set(ylabel='$\\lg C$', title='Linear SVM')\n",
        "axes[0, 2].xaxis.set_ticks_position('none') \n",
        "axes[0, 2].add_patch(Rectangle(np.unravel_index(svm_scores.T.argmax(), svm_scores.T.shape), 1, 1, edgecolor='red', fill=False, lw=1.5))\n",
        "\n",
        "sns.heatmap(svm_fe_scores, cmap='GnBu', vmin=vmin, vmax=vmax, cbar=False, square=True, linewidth=.2,\n",
        "            xticklabels=np.round(np.log10(svm_par['epsilon']), 1), yticklabels=np.round(np.log10(svm_par['C']), 2), ax=axes[1, 2])\n",
        "axes[1, 2].set(xlabel=r'$\\lg$(epsilon)', ylabel='$\\lg C$')\n",
        "axes[1, 2].add_patch(Rectangle(np.unravel_index(svm_fe_scores.T.argmax(), svm_fe_scores.T.shape), 1, 1, edgecolor='red', fill=False, lw=1.5))\n",
        "\n",
        "\n",
        "# dt\n",
        "sns.heatmap(dt_scores, cmap='GnBu', vmin=vmin, vmax=vmax, cbar=False, square=True, linewidth=.2, \n",
        "            xticklabels=dt_par['max_depth'], yticklabels=np.round(np.log10(dt_par['ccp_alpha']), 2), ax=axes[0, 3])\n",
        "axes[0, 3].set(ylabel='$\\lg$(ccp_alpha)', title='Decision Tree')\n",
        "axes[0, 3].xaxis.set_ticks_position('none') \n",
        "axes[0, 3].add_patch(Rectangle(np.unravel_index(dt_scores.T.argmax(), dt_scores.T.shape), 1, 1, edgecolor='red', fill=False, lw=1.5))\n",
        "\n",
        "sns.heatmap(dt_fe_scores, cmap='GnBu', vmin=vmin, vmax=vmax, cbar=False, square=True, linewidth=.2,\n",
        "            xticklabels=dt_par['max_depth'], yticklabels=np.round(np.log10(dt_par['ccp_alpha']), 2), ax=axes[1, 3])\n",
        "axes[1, 3].set(xlabel='max_depth', ylabel='$\\lg$(ccp_alpha)')\n",
        "axes[1, 3].add_patch(Rectangle(np.unravel_index(dt_fe_scores.T.argmax(), dt_fe_scores.T.shape), 1, 1, edgecolor='red', fill=False, lw=1.5))\n",
        "\n",
        "\n",
        "# rf\n",
        "sns.heatmap(rf_scores.T, cmap='GnBu', vmin=vmin, vmax=vmax, cbar=False, square=True, linewidth=.2, \n",
        "            xticklabels=rf_par['n_estimators'], yticklabels=np.round(rf_par['max_features'], 3), ax=axes[0, 4])\n",
        "axes[0, 4].set(ylabel='max_features', title='Random Forest')\n",
        "axes[0, 4].xaxis.set_ticks_position('none') \n",
        "axes[0, 4].add_patch(Rectangle(np.unravel_index(rf_scores.argmax(), rf_scores.shape), 1, 1, edgecolor='red', fill=False, lw=1.5))\n",
        "\n",
        "sns.heatmap(rf_fe_scores.T, cmap='GnBu', vmin=vmin, vmax=vmax, cbar=False, square=True, linewidth=.2,\n",
        "            xticklabels=rf_par['n_estimators'], yticklabels=np.round(rf_par['max_features'], 3), ax=axes[1, 4])\n",
        "axes[1, 4].set(xlabel='n_estimators', ylabel='max_features')\n",
        "axes[1, 4].add_patch(Rectangle(np.unravel_index(rf_fe_scores.argmax(), rf_fe_scores.shape), 1, 1, edgecolor='red', fill=False, lw=1.5))\n",
        "\n",
        "\n",
        "# hgb\n",
        "sns.heatmap(hgb_scores, cmap='GnBu', vmin=vmin, vmax=vmax, cbar=False, square=True, linewidth=.2, \n",
        "            xticklabels=hgb_par['max_bins'], yticklabels=np.round(np.log10(hgb_par['learning_rate']), 2), ax=axes[0, 5])\n",
        "axes[0, 5].set(ylabel=r'$\\lg$(learning_rate)', title='HGB')\n",
        "axes[0, 5].xaxis.set_ticks_position('none') \n",
        "axes[0, 5].add_patch(Rectangle(np.unravel_index(hgb_scores.T.argmax(), hgb_scores.T.shape), 1, 1, edgecolor='red', fill=False, lw=1.5))\n",
        "\n",
        "sns.heatmap(hgb_fe_scores, cmap='GnBu', vmin=vmin, vmax=vmax, cbar=False, square=True, linewidth=.2,\n",
        "            xticklabels=hgb_par['max_bins'], yticklabels=np.round(np.log10(hgb_par['learning_rate']), 2), ax=axes[1, 5])\n",
        "axes[1, 5].set(xlabel='max_bins', ylabel=r'$\\lg$(learning_rate)')\n",
        "axes[1, 5].add_patch(Rectangle(np.unravel_index(hgb_fe_scores.T.argmax(), hgb_fe_scores.T.shape), 1, 1, edgecolor='red', fill=False, lw=1.5))\n",
        "\n",
        "\n",
        "fig.colorbar(plt.gca().get_children()[0], ax=axes.ravel().tolist(), location='bottom', shrink=0.4)\n",
        "fig.suptitle('Model Selection using R2', fontsize=16)\n",
        "plt.show()"
      ],
      "metadata": {
        "colab": {
          "base_uri": "https://localhost:8080/",
          "height": 386
        },
        "id": "bDFsaZUVWvU6",
        "outputId": "ff34a9ce-c10a-47a0-ae7f-7854dcf82c42"
      },
      "execution_count": null,
      "outputs": [
        {
          "output_type": "display_data",
          "data": {
            "text/plain": [
              "<Figure size 1152x432 with 13 Axes>"
            ],
            "image/png": "[encoded data removed]"
          },
          "metadata": {
            "needs_background": "light"
          }
        }
      ]
    },
    {
      "cell_type": "code",
      "source": [
        "# improve HGBT\n",
        "\n",
        "\n",
        "num_features = ['atemp', 'humidity', 'windspeed']\n",
        "ord_features = ['year']\n",
        "ohe_features = ['weather', 'month', 'dayofweek']\n",
        "te_features = ['hour']\n",
        "preprocess = make_column_transformer(\n",
        "                    (StandardScaler(), num_features),\n",
        "                    (OrdinalEncoder(), ord_features), \n",
        "                    (OneHotEncoder(), ohe_features), \n",
        "                    (TargetEncoder(), te_features), remainder='passthrough')\n",
        "hgb_par = {\n",
        "    'max_bins': np.arange(15, 256, 10),\n",
        "    'learning_rate': np.logspace(-3, 0, 25)\n",
        "    }\n",
        "\n",
        "\n",
        "hgb_fe_pipe = make_pipeline(preprocess, GridSearchCV(HistGradientBoostingRegressor(random_state=42), param_grid=hgb_par, return_train_score=True, n_jobs=-1)).fit(dev_X_reg_trans, dev_y)\n",
        "\n",
        "\n",
        "print('After features engineering, hgb gets {} with {}'.format(hgb_fe_pipe.named_steps['gridsearchcv'].best_score_, hgb_fe_pipe.named_steps['gridsearchcv'].best_params_))"
      ],
      "metadata": {
        "colab": {
          "base_uri": "https://localhost:8080/"
        },
        "id": "DiL7kKfh3ufm",
        "outputId": "e0444510-e7e2-4731-c1a2-b3eb77db5424"
      },
      "execution_count": null,
      "outputs": [
        {
          "output_type": "stream",
          "name": "stdout",
          "text": [
            "After features engineering, hgb gets 0.881055990297949 with {'learning_rate': 0.31622776601683794, 'max_bins': 35}\n"
          ]
        }
      ]
    },
    {
      "cell_type": "markdown",
      "source": [
        "## Time Series"
      ],
      "metadata": {
        "id": "nZA4QpunHSHi"
      }
    },
    {
      "cell_type": "code",
      "source": [
        "dev_X_ts = parse_dt(dev_X, task='timeseries')\n",
        "test_X_ts = parse_dt(df_test, task='timeseries')\n",
        "dev_X_ts.head()"
      ],
      "metadata": {
        "colab": {
          "base_uri": "https://localhost:8080/",
          "height": 206
        },
        "id": "Fqa3_sBUHRU-",
        "outputId": "2a2e222a-2ca7-46e5-d6ca-4045856cdd83"
      },
      "execution_count": null,
      "outputs": [
        {
          "output_type": "execute_result",
          "data": {
            "text/plain": [
              "   holiday weather   atemp  humidity  windspeed  year month dayofweek hour  \\\n",
              "0        0       1  14.395        81        0.0  2011     1         5    0   \n",
              "1        0       1  13.635        80        0.0  2011     1         5    1   \n",
              "2        0       1  13.635        80        0.0  2011     1         5    2   \n",
              "3        0       1  14.395        75        0.0  2011     1         5    3   \n",
              "4        0       1  14.395        75        0.0  2011     1         5    4   \n",
              "\n",
              "             datetime  \n",
              "0 2011-01-01 00:00:00  \n",
              "1 2011-01-01 01:00:00  \n",
              "2 2011-01-01 02:00:00  \n",
              "3 2011-01-01 03:00:00  \n",
              "4 2011-01-01 04:00:00  "
            ],
            "text/html": [
              "\n",
              "  <div id=\"df-19e9bdf8-88e0-4a0d-b708-f1fd83c5e5be\">\n",
              "    <div class=\"colab-df-container\">\n",
              "      <div>\n",
              "<style scoped>\n",
              "    .dataframe tbody tr th:only-of-type {\n",
              "        vertical-align: middle;\n",
              "    }\n",
              "\n",
              "    .dataframe tbody tr th {\n",
              "        vertical-align: top;\n",
              "    }\n",
              "\n",
              "    .dataframe thead th {\n",
              "        text-align: right;\n",
              "    }\n",
              "</style>\n",
              "<table border=\"1\" class=\"dataframe\">\n",
              "  <thead>\n",
              "    <tr style=\"text-align: right;\">\n",
              "      <th></th>\n",
              "      <th>holiday</th>\n",
              "      <th>weather</th>\n",
              "      <th>atemp</th>\n",
              "      <th>humidity</th>\n",
              "      <th>windspeed</th>\n",
              "      <th>year</th>\n",
              "      <th>month</th>\n",
              "      <th>dayofweek</th>\n",
              "      <th>hour</th>\n",
              "      <th>datetime</th>\n",
              "    </tr>\n",
              "  </thead>\n",
              "  <tbody>\n",
              "    <tr>\n",
              "      <th>0</th>\n",
              "      <td>0</td>\n",
              "      <td>1</td>\n",
              "      <td>14.395</td>\n",
              "      <td>81</td>\n",
              "      <td>0.0</td>\n",
              "      <td>2011</td>\n",
              "      <td>1</td>\n",
              "      <td>5</td>\n",
              "      <td>0</td>\n",
              "      <td>2011-01-01 00:00:00</td>\n",
              "    </tr>\n",
              "    <tr>\n",
              "      <th>1</th>\n",
              "      <td>0</td>\n",
              "      <td>1</td>\n",
              "      <td>13.635</td>\n",
              "      <td>80</td>\n",
              "      <td>0.0</td>\n",
              "      <td>2011</td>\n",
              "      <td>1</td>\n",
              "      <td>5</td>\n",
              "      <td>1</td>\n",
              "      <td>2011-01-01 01:00:00</td>\n",
              "    </tr>\n",
              "    <tr>\n",
              "      <th>2</th>\n",
              "      <td>0</td>\n",
              "      <td>1</td>\n",
              "      <td>13.635</td>\n",
              "      <td>80</td>\n",
              "      <td>0.0</td>\n",
              "      <td>2011</td>\n",
              "      <td>1</td>\n",
              "      <td>5</td>\n",
              "      <td>2</td>\n",
              "      <td>2011-01-01 02:00:00</td>\n",
              "    </tr>\n",
              "    <tr>\n",
              "      <th>3</th>\n",
              "      <td>0</td>\n",
              "      <td>1</td>\n",
              "      <td>14.395</td>\n",
              "      <td>75</td>\n",
              "      <td>0.0</td>\n",
              "      <td>2011</td>\n",
              "      <td>1</td>\n",
              "      <td>5</td>\n",
              "      <td>3</td>\n",
              "      <td>2011-01-01 03:00:00</td>\n",
              "    </tr>\n",
              "    <tr>\n",
              "      <th>4</th>\n",
              "      <td>0</td>\n",
              "      <td>1</td>\n",
              "      <td>14.395</td>\n",
              "      <td>75</td>\n",
              "      <td>0.0</td>\n",
              "      <td>2011</td>\n",
              "      <td>1</td>\n",
              "      <td>5</td>\n",
              "      <td>4</td>\n",
              "      <td>2011-01-01 04:00:00</td>\n",
              "    </tr>\n",
              "  </tbody>\n",
              "</table>\n",
              "</div>\n",
              "      <button class=\"colab-df-convert\" onclick=\"convertToInteractive('df-19e9bdf8-88e0-4a0d-b708-f1fd83c5e5be')\"\n",
              "              title=\"Convert this dataframe to an interactive table.\"\n",
              "              style=\"display:none;\">\n",
              "        \n",
              "  <svg xmlns=\"http://www.w3.org/2000/svg\" height=\"24px\"viewBox=\"0 0 24 24\"\n",
              "       width=\"24px\">\n",
              "    <path d=\"M0 0h24v24H0V0z\" fill=\"none\"/>\n",
              "    <path d=\"M18.56 5.44l.94 2.06.94-2.06 2.06-.94-2.06-.94-.94-2.06-.94 2.06-2.06.94zm-11 1L8.5 8.5l.94-2.06 2.06-.94-2.06-.94L8.5 2.5l-.94 2.06-2.06.94zm10 10l.94 2.06.94-2.06 2.06-.94-2.06-.94-.94-2.06-.94 2.06-2.06.94z\"/><path d=\"M17.41 7.96l-1.37-1.37c-.4-.4-.92-.59-1.43-.59-.52 0-1.04.2-1.43.59L10.3 9.45l-7.72 7.72c-.78.78-.78 2.05 0 2.83L4 21.41c.39.39.9.59 1.41.59.51 0 1.02-.2 1.41-.59l7.78-7.78 2.81-2.81c.8-.78.8-2.07 0-2.86zM5.41 20L4 18.59l7.72-7.72 1.47 1.35L5.41 20z\"/>\n",
              "  </svg>\n",
              "      </button>\n",
              "      \n",
              "  <style>\n",
              "    .colab-df-container {\n",
              "      display:flex;\n",
              "      flex-wrap:wrap;\n",
              "      gap: 12px;\n",
              "    }\n",
              "\n",
              "    .colab-df-convert {\n",
              "      background-color: #E8F0FE;\n",
              "      border: none;\n",
              "      border-radius: 50%;\n",
              "      cursor: pointer;\n",
              "      display: none;\n",
              "      fill: #1967D2;\n",
              "      height: 32px;\n",
              "      padding: 0 0 0 0;\n",
              "      width: 32px;\n",
              "    }\n",
              "\n",
              "    .colab-df-convert:hover {\n",
              "      background-color: #E2EBFA;\n",
              "      box-shadow: 0px 1px 2px rgba(60, 64, 67, 0.3), 0px 1px 3px 1px rgba(60, 64, 67, 0.15);\n",
              "      fill: #174EA6;\n",
              "    }\n",
              "\n",
              "    [theme=dark] .colab-df-convert {\n",
              "      background-color: #3B4455;\n",
              "      fill: #D2E3FC;\n",
              "    }\n",
              "\n",
              "    [theme=dark] .colab-df-convert:hover {\n",
              "      background-color: #434B5C;\n",
              "      box-shadow: 0px 1px 3px 1px rgba(0, 0, 0, 0.15);\n",
              "      filter: drop-shadow(0px 1px 2px rgba(0, 0, 0, 0.3));\n",
              "      fill: #FFFFFF;\n",
              "    }\n",
              "  </style>\n",
              "\n",
              "      <script>\n",
              "        const buttonEl =\n",
              "          document.querySelector('#df-19e9bdf8-88e0-4a0d-b708-f1fd83c5e5be button.colab-df-convert');\n",
              "        buttonEl.style.display =\n",
              "          google.colab.kernel.accessAllowed ? 'block' : 'none';\n",
              "\n",
              "        async function convertToInteractive(key) {\n",
              "          const element = document.querySelector('#df-19e9bdf8-88e0-4a0d-b708-f1fd83c5e5be');\n",
              "          const dataTable =\n",
              "            await google.colab.kernel.invokeFunction('convertToInteractive',\n",
              "                                                     [key], {});\n",
              "          if (!dataTable) return;\n",
              "\n",
              "          const docLinkHtml = 'Like what you see? Visit the ' +\n",
              "            '<a target=\"_blank\" href=https://colab.research.google.com/notebooks/data_table.ipynb>data table notebook</a>'\n",
              "            + ' to learn more about interactive tables.';\n",
              "          element.innerHTML = '';\n",
              "          dataTable['output_type'] = 'display_data';\n",
              "          await google.colab.output.renderOutput(dataTable, element);\n",
              "          const docLink = document.createElement('div');\n",
              "          docLink.innerHTML = docLinkHtml;\n",
              "          element.appendChild(docLink);\n",
              "        }\n",
              "      </script>\n",
              "    </div>\n",
              "  </div>\n",
              "  "
            ]
          },
          "metadata": {},
          "execution_count": 4
        }
      ]
    },
    {
      "cell_type": "code",
      "source": [
        "# preprocess\n",
        "\n",
        "ord_features = ['year']\n",
        "ohe_features = ['weather', 'month', 'dayofweek']\n",
        "te_features = ['hour']\n",
        "num_features = ['atemp', 'humidity', 'windspeed']\n",
        "preprocess = make_column_transformer(\n",
        "                    (OrdinalEncoder(), ord_features), \n",
        "                    (OneHotEncoder(), ohe_features), \n",
        "                    (TargetEncoder(), te_features), \n",
        "                    (StandardScaler(), num_features), \n",
        "                    remainder='passthrough')\n",
        "\n",
        "dev_X_ts_trans = pd.DataFrame(preprocess.fit_transform(dev_X_ts, dev_y))\n",
        "test_X_ts_trans = pd.DataFrame(preprocess.transform(test_X_ts))"
      ],
      "metadata": {
        "id": "-DBAjes9OFkK"
      },
      "execution_count": null,
      "outputs": []
    },
    {
      "cell_type": "markdown",
      "source": [
        "### LSTM"
      ],
      "metadata": {
        "id": "gdvT_EB2aE1C"
      }
    },
    {
      "cell_type": "code",
      "source": [
        "from keras.models import load_model, Sequential\n",
        "from keras.layers import LSTM, Dense, Dropout\n",
        "from keras.callbacks import EarlyStopping, TensorBoard, ModelCheckpoint, Callback\n",
        "import tensorflow as tf\n",
        "from datetime import datetime\n",
        "!pip install tensorflow-addons -q\n",
        "from tensorflow_addons.metrics import RSquare\n",
        "\n",
        "class LSTM_m2o(object):\n",
        "\n",
        "    def __init__(self, units=20, look_back=4, n_features=12, n_targets=1):\n",
        "\n",
        "        # model hyperparameters\n",
        "        self.units = units\n",
        "        self.look_back = look_back\n",
        "        self.n_features = n_features\n",
        "        self.n_targets = n_targets\n",
        "        self.dropout = 0.25\n",
        "\n",
        "        # Get directories name\n",
        "        self.log_dir = 'log'\n",
        "        self.checkpoint_dir = 'checkpoint'\n",
        "\n",
        "\n",
        "    def build(self):\n",
        "        model = Sequential()\n",
        "        model.add(LSTM(self.units, input_shape=(self.look_back, self.n_features)))\n",
        "        # model.add(LSTM(self.units, input_shape=(self.look_back, self.n_features), return_sequences=True))\n",
        "        \n",
        "        # model.add(LSTM(128))\n",
        "        model.add(Dropout(self.dropout))\n",
        "        model.add(Dense(128, activation='relu'))\n",
        "        model.add(Dense(64, activation='relu'))\n",
        "        model.add(Dense(32, activation='relu'))\n",
        "        model.add(Dense(self.n_targets))\n",
        "        \n",
        "        return model\n",
        "\n",
        "    def restore(self, filepath):\n",
        "\n",
        "        # Load the architecture\n",
        "        self.best_model = load_model(filepath)\n",
        "        self.best_model.compile(optimizer='Adadelta', loss=['mse'], metrics=[RSquare()])\n",
        "\n",
        "\n",
        "    def train(self, X_train, y_train, epochs=200, batch_size=64, verbose=1):\n",
        "\n",
        "        self.model = self.build()\n",
        "        self.model.compile(optimizer=tf.keras.optimizers.Adam(learning_rate=1e-4), loss=['mse'], metrics=[RSquare()])\n",
        "\n",
        "        # Stop training if error does not improve within 25 iterations\n",
        "        early_stopping_monitor = EarlyStopping(monitor='val_loss', patience=25, restore_best_weights=True)\n",
        "\n",
        "        # Save the best model ... with minimal error\n",
        "        filepath = self.checkpoint_dir + '/LSTM.best' + datetime.now().strftime('%d%m%Y_%H:%M:%S') + '.hdf5'\n",
        "        checkpoint = ModelCheckpoint(filepath, monitor='val_loss', verbose=verbose, save_best_only=True, mode='min')\n",
        "\n",
        "        callback_history = self.model.fit(X_train, y_train, epochs=epochs, batch_size=batch_size,\n",
        "                             validation_split=0.2, verbose=verbose,\n",
        "                             callbacks=[early_stopping_monitor, checkpoint]).history\n",
        "        return callback_history"
      ],
      "metadata": {
        "id": "CdpT0Q3ZY9xV"
      },
      "execution_count": null,
      "outputs": []
    },
    {
      "cell_type": "code",
      "source": [
        "# LSTM model selection\n",
        "\n",
        "lstm_loss, pred = []\n",
        "look_backs = list(range(4, 25))\n",
        "for look_back in look_backs:\n",
        "  dev_X_ts_samp, dev_y_ts_samp, test_X_ts_samp = df2samples(look_back, dev_X_ts_trans, dev_y, test_X_ts_trans)\n",
        "  lstm = LSTM_m2o(300, look_back, dev_X_ts_samp.shape[-1])\n",
        "  lstm_loss.append(min(lstm.train(dev_X_ts_samp, dev_y_ts_samp, batch_size=256, verbose=0)['val_loss']))\n",
        "  pred.append(lstm.model.predict(test_X_ts_samp))\n",
        "\n",
        "plt.plot(look_backs, lstm_loss)\n",
        "plt.xlabel('look_back')\n",
        "plt.xlim(2, 25)\n",
        "plt.ylabel('MSE')\n",
        "plt.title('LSTM Loss')\n",
        "plt.show()\n",
        "\n",
        "print('optimal look_back:', look_backs[np.argmin(lstm_loss)])"
      ],
      "metadata": {
        "colab": {
          "base_uri": "https://localhost:8080/",
          "height": 314
        },
        "id": "FJBwk2CAQrNM",
        "outputId": "d05b148b-9707-4ae5-d187-2a46a0b0f7b7"
      },
      "execution_count": null,
      "outputs": [
        {
          "output_type": "display_data",
          "data": {
            "text/plain": [
              "<Figure size 432x288 with 1 Axes>"
            ],
            "image/png": "[encoded data removed]"
          },
          "metadata": {
            "needs_background": "light"
          }
        },
        {
          "output_type": "stream",
          "name": "stdout",
          "text": [
            "optimal look_back: 12\n"
          ]
        }
      ]
    },
    {
      "cell_type": "code",
      "source": [
        "# output predition\n",
        "output = pd.DataFrame()\n",
        "output['datetime'] = df_test['datetime']\n",
        "output['count'] = np.exp(pred[np.argmin(lstm_loss)])\n",
        "output.to_csv('output.csv', index=False)"
      ],
      "metadata": {
        "id": "SyBXZfwL8rKK"
      },
      "execution_count": null,
      "outputs": []
    }
  ]
}